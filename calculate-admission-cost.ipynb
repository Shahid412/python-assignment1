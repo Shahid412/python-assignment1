{
 "cells": [
  {
   "cell_type": "code",
   "execution_count": 1,
   "metadata": {},
   "outputs": [],
   "source": [
    "# IV - Program for calculating admission cost "
   ]
  },
  {
   "cell_type": "code",
   "execution_count": 2,
   "metadata": {},
   "outputs": [
    {
     "name": "stdout",
     "output_type": "stream",
     "text": [
      "Enter age : 3\n",
      "Age is  3\n",
      "Enter age : 53\n",
      "Age is  53\n",
      "Enter age : 12\n",
      "Age is  12\n",
      "Enter age : 333\n",
      "Age is  333\n",
      "Enter age : 12\n",
      "Age is  12\n",
      "Enter age : 41\n",
      "Age is  41\n",
      "Enter age : \n",
      "['3', '53', '12', '333', '12', '41']\n"
     ]
    }
   ],
   "source": [
    "arr=[]\n",
    "while True:\n",
    "    x = input(\"Enter age : \")\n",
    "    if x==\"\":break\n",
    "    print(\"Age is \", x)\n",
    "    arr.append(x)\n",
    "print(arr)\n"
   ]
  },
  {
   "cell_type": "code",
   "execution_count": 3,
   "metadata": {},
   "outputs": [],
   "source": [
    "cost=0\n",
    "\n",
    "for i in range(len(arr)): \n",
    "    if int(arr[i]) < 4:\n",
    "        charge=0\n",
    "    elif int(arr[i])>3 and int(arr[i])<12:\n",
    "        charge=int(arr[i])*899.90\n",
    "    elif int(arr[i])>69:\n",
    "        charge=int(arr[i])*1490.49\n",
    "    else:\n",
    "        charge=int(arr[i]) *1999.99\n",
    "    cost+=charge"
   ]
  },
  {
   "cell_type": "code",
   "execution_count": 4,
   "metadata": {},
   "outputs": [
    {
     "name": "stdout",
     "output_type": "stream",
     "text": [
      "Dear user, total admission cost for your group is : £ 732331.99\n"
     ]
    }
   ],
   "source": [
    "print(\"Dear user, total admission cost for your group is : £\",round(cost,2))"
   ]
  },
  {
   "cell_type": "code",
   "execution_count": null,
   "metadata": {},
   "outputs": [],
   "source": []
  }
 ],
 "metadata": {
  "kernelspec": {
   "display_name": "Python 3",
   "language": "python",
   "name": "python3"
  },
  "language_info": {
   "codemirror_mode": {
    "name": "ipython",
    "version": 3
   },
   "file_extension": ".py",
   "mimetype": "text/x-python",
   "name": "python",
   "nbconvert_exporter": "python",
   "pygments_lexer": "ipython3",
   "version": "3.7.4"
  }
 },
 "nbformat": 4,
 "nbformat_minor": 2
}
