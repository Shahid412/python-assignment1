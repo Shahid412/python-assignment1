{
 "cells": [
  {
   "cell_type": "code",
   "execution_count": 1,
   "metadata": {},
   "outputs": [],
   "source": [
    "# V - Program for printing Chinese Zodiac sign for a given year "
   ]
  },
  {
   "cell_type": "code",
   "execution_count": 2,
   "metadata": {},
   "outputs": [
    {
     "name": "stdout",
     "output_type": "stream",
     "text": [
      "Input your birth year: 2001\n",
      "Zodiac sign for the given year is : Snake\n"
     ]
    }
   ],
   "source": [
    "year = int(input(\"Input your birth year: \"))\n",
    "if (year - 2000) % 12 == 0:\n",
    "    sign = 'Dragon'\n",
    "elif (year - 2000) % 12 == 1:\n",
    "    sign = 'Snake'\n",
    "elif (year - 2000) % 12 == 2:\n",
    "    sign = 'Horse'\n",
    "elif (year - 2000) % 12 == 3:\n",
    "    sign = 'Goat'\n",
    "elif (year - 2000) % 12 == 4:\n",
    "    sign = 'Monkey'\n",
    "elif (year - 2000) % 12 == 5:\n",
    "    sign = 'Rooster'\n",
    "elif (year - 2000) % 12 == 6:\n",
    "    sign = 'Dog'\n",
    "elif (year - 2000) % 12 == 7:\n",
    "    sign = 'Pig'\n",
    "elif (year - 2000) % 12 == 8:\n",
    "    sign = 'Rat'\n",
    "elif (year - 2000) % 12 == 9:\n",
    "    sign = 'Ox'\n",
    "elif (year - 2000) % 12 == 10:\n",
    "    sign = 'Tiger'\n",
    "else:\n",
    "    sign = 'Rabbit'\n",
    "\n",
    "print(\"Zodiac sign for the given year is :\",sign)"
   ]
  },
  {
   "cell_type": "code",
   "execution_count": null,
   "metadata": {},
   "outputs": [],
   "source": []
  }
 ],
 "metadata": {
  "kernelspec": {
   "display_name": "Python 3",
   "language": "python",
   "name": "python3"
  },
  "language_info": {
   "codemirror_mode": {
    "name": "ipython",
    "version": 3
   },
   "file_extension": ".py",
   "mimetype": "text/x-python",
   "name": "python",
   "nbconvert_exporter": "python",
   "pygments_lexer": "ipython3",
   "version": "3.7.4"
  }
 },
 "nbformat": 4,
 "nbformat_minor": 2
}
