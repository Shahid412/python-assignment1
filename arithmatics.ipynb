{
 "cells": [
  {
   "cell_type": "code",
   "execution_count": 1,
   "metadata": {},
   "outputs": [],
   "source": [
    "# I - Program for calculating given values in order "
   ]
  },
  {
   "cell_type": "code",
   "execution_count": 2,
   "metadata": {},
   "outputs": [
    {
     "name": "stdout",
     "output_type": "stream",
     "text": [
      "Enter x: 4\n",
      "Value of x is : 4\n"
     ]
    }
   ],
   "source": [
    "x=int(input(\"Enter x: \"))\n",
    "\n",
    "print(\"Value of x is :\",x)"
   ]
  },
  {
   "cell_type": "code",
   "execution_count": 3,
   "metadata": {},
   "outputs": [
    {
     "name": "stdout",
     "output_type": "stream",
     "text": [
      "Enter y: 6\n",
      "Value of y is : 6\n"
     ]
    }
   ],
   "source": [
    "y=int(input(\"Enter y: \"))\n",
    "\n",
    "print(\"Value of y is :\",y)"
   ]
  },
  {
   "cell_type": "code",
   "execution_count": 4,
   "metadata": {},
   "outputs": [
    {
     "name": "stdout",
     "output_type": "stream",
     "text": [
      "sum of x and y is :  10\n",
      "difference when y is subtracted from x :  -2\n",
      "product of x and y is :  24\n",
      "quotient when x divided by y is :  0.6666666666666666\n",
      "reminder when x divided by y is :  4\n",
      "0.6020599913279624\n",
      "power of x raised to y (x^y) is :  4096\n"
     ]
    }
   ],
   "source": [
    "print (\"sum of x and y is : \", x+y)\n",
    "sub= x-y\n",
    "print (\"difference when y is subtracted from x : \", sub)\n",
    "prod=x*y\n",
    "print (\"product of x and y is : \", prod)\n",
    "q=x/y\n",
    "print (\"quotient when x divided by y is : \", q)\n",
    "r=x%y\n",
    "print (\"reminder when x divided by y is : \", r)\n",
    "\n",
    "import math\n",
    "print(math.log10(x))\n",
    "\n",
    "p=x**y\n",
    "print (\"power of x raised to y (x^y) is : \", p)\n"
   ]
  },
  {
   "cell_type": "code",
   "execution_count": null,
   "metadata": {},
   "outputs": [],
   "source": []
  }
 ],
 "metadata": {
  "kernelspec": {
   "display_name": "Python 3",
   "language": "python",
   "name": "python3"
  },
  "language_info": {
   "codemirror_mode": {
    "name": "ipython",
    "version": 3
   },
   "file_extension": ".py",
   "mimetype": "text/x-python",
   "name": "python",
   "nbconvert_exporter": "python",
   "pygments_lexer": "ipython3",
   "version": "3.7.4"
  }
 },
 "nbformat": 4,
 "nbformat_minor": 2
}
